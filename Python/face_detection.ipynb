{
  "nbformat": 4,
  "nbformat_minor": 0,
  "metadata": {
    "colab": {
      "name": "face_detection.ipynb",
      "provenance": [],
      "collapsed_sections": [],
      "authorship_tag": "ABX9TyMmiPThbdZmRg9KwnyWIYUM",
      "include_colab_link": true
    },
    "kernelspec": {
      "name": "python3",
      "display_name": "Python 3"
    },
    "language_info": {
      "name": "python"
    },
    "accelerator": "GPU"
  },
  "cells": [
    {
      "cell_type": "markdown",
      "metadata": {
        "id": "view-in-github",
        "colab_type": "text"
      },
      "source": [
        "<a href=\"https://colab.research.google.com/github/Dimisz/computer_vision/blob/main/Python/face_detection.ipynb\" target=\"_parent\"><img src=\"https://colab.research.google.com/assets/colab-badge.svg\" alt=\"Open In Colab\"/></a>"
      ]
    },
    {
      "cell_type": "markdown",
      "metadata": {
        "id": "oNABE3ti4Y1-"
      },
      "source": [
        "# Face Detection"
      ]
    },
    {
      "cell_type": "markdown",
      "metadata": {
        "id": "0x2pNJfi4tTX"
      },
      "source": [
        "## Open CV\n"
      ]
    },
    {
      "cell_type": "markdown",
      "metadata": {
        "id": "zsCDZmch42Zw"
      },
      "source": [
        "### Loading the image"
      ]
    },
    {
      "cell_type": "code",
      "metadata": {
        "id": "XcJ4HFfC447S"
      },
      "source": [
        "import cv2"
      ],
      "execution_count": 1,
      "outputs": []
    },
    {
      "cell_type": "code",
      "metadata": {
        "colab": {
          "base_uri": "https://localhost:8080/"
        },
        "id": "Ap-mTMPJ46NJ",
        "outputId": "fbe40b64-3352-47e4-f7e2-54c0652337c7"
      },
      "source": [
        "from google.colab import drive\n",
        "drive.mount('/content/drive')"
      ],
      "execution_count": 2,
      "outputs": [
        {
          "output_type": "stream",
          "name": "stdout",
          "text": [
            "Mounted at /content/drive\n"
          ]
        }
      ]
    },
    {
      "cell_type": "code",
      "metadata": {
        "id": "UN1QYX1X5MR9"
      },
      "source": [
        "image = cv2.imread(\"/content/drive/MyDrive/Computer Vision Masterclass/Images/people1.jpg\")"
      ],
      "execution_count": 3,
      "outputs": []
    },
    {
      "cell_type": "code",
      "metadata": {
        "colab": {
          "base_uri": "https://localhost:8080/"
        },
        "id": "NqUEyec45rGt",
        "outputId": "9e007e48-69d1-4025-dab2-ae37bebb713c"
      },
      "source": [
        "image.shape"
      ],
      "execution_count": 4,
      "outputs": [
        {
          "output_type": "execute_result",
          "data": {
            "text/plain": [
              "(1280, 1920, 3)"
            ]
          },
          "metadata": {},
          "execution_count": 4
        }
      ]
    },
    {
      "cell_type": "code",
      "metadata": {
        "id": "SiZiEBSr6GBr"
      },
      "source": [
        "from google.colab.patches import cv2_imshow #cv2.imshow deprecated in colab"
      ],
      "execution_count": 5,
      "outputs": []
    },
    {
      "cell_type": "code",
      "metadata": {
        "id": "7HHhEYS25xn_"
      },
      "source": [
        "#cv2_imshow(image)"
      ],
      "execution_count": 6,
      "outputs": []
    },
    {
      "cell_type": "markdown",
      "metadata": {
        "id": "uL3Jq9GW6Anf"
      },
      "source": [
        "### Resizing the image"
      ]
    },
    {
      "cell_type": "code",
      "metadata": {
        "colab": {
          "base_uri": "https://localhost:8080/"
        },
        "id": "SgTWw2Hj6T9H",
        "outputId": "60ffa30d-e039-4b59-cf51-142e662cfd12"
      },
      "source": [
        "image = cv2.resize(image, (800,600))\n",
        "image.shape"
      ],
      "execution_count": 7,
      "outputs": [
        {
          "output_type": "execute_result",
          "data": {
            "text/plain": [
              "(600, 800, 3)"
            ]
          },
          "metadata": {},
          "execution_count": 7
        }
      ]
    },
    {
      "cell_type": "code",
      "metadata": {
        "id": "PZz3j4ZU6azh"
      },
      "source": [
        "#cv2_imshow(image)"
      ],
      "execution_count": 8,
      "outputs": []
    },
    {
      "cell_type": "markdown",
      "metadata": {
        "id": "YU3el2ib6dPi"
      },
      "source": [
        "### Convert to grayscale\n",
        "Since we don't need that much information for face detection\n",
        "\n",
        "Also recommended by OpenCV docs"
      ]
    },
    {
      "cell_type": "code",
      "metadata": {
        "colab": {
          "base_uri": "https://localhost:8080/"
        },
        "id": "GBYG4wsq67iy",
        "outputId": "f6b393fa-5169-49b1-fb21-b0c0ffeb6309"
      },
      "source": [
        "600 * 800 * 3, 600 * 800"
      ],
      "execution_count": 9,
      "outputs": [
        {
          "output_type": "execute_result",
          "data": {
            "text/plain": [
              "(1440000, 480000)"
            ]
          },
          "metadata": {},
          "execution_count": 9
        }
      ]
    },
    {
      "cell_type": "code",
      "metadata": {
        "id": "05Pq-E1O7Bfz"
      },
      "source": [
        "image_gray = cv2.cvtColor(image, cv2.COLOR_BGR2GRAY)"
      ],
      "execution_count": 10,
      "outputs": []
    },
    {
      "cell_type": "code",
      "metadata": {
        "id": "pMlZHPhj7cDm"
      },
      "source": [
        "#cv2_imshow(image_gray)"
      ],
      "execution_count": 11,
      "outputs": []
    },
    {
      "cell_type": "code",
      "metadata": {
        "colab": {
          "base_uri": "https://localhost:8080/"
        },
        "id": "iD8gbETK7fxx",
        "outputId": "1d864c2e-cc46-401e-db97-c3eaabde2977"
      },
      "source": [
        "image_gray.shape"
      ],
      "execution_count": 12,
      "outputs": [
        {
          "output_type": "execute_result",
          "data": {
            "text/plain": [
              "(600, 800)"
            ]
          },
          "metadata": {},
          "execution_count": 12
        }
      ]
    },
    {
      "cell_type": "code",
      "metadata": {
        "colab": {
          "base_uri": "https://localhost:8080/"
        },
        "id": "wbyjIPgr7jU4",
        "outputId": "b8dd9c81-e542-4ae8-a0d9-4b421fa3a550"
      },
      "source": [
        "image.shape"
      ],
      "execution_count": 13,
      "outputs": [
        {
          "output_type": "execute_result",
          "data": {
            "text/plain": [
              "(600, 800, 3)"
            ]
          },
          "metadata": {},
          "execution_count": 13
        }
      ]
    },
    {
      "cell_type": "markdown",
      "metadata": {
        "id": "dVwisQoq7n_1"
      },
      "source": [
        "### Detecting Faces (using pretrained classifier)"
      ]
    },
    {
      "cell_type": "code",
      "metadata": {
        "id": "7TTR5cT672ZO"
      },
      "source": [
        "face_detector = cv2.CascadeClassifier(\"/content/drive/MyDrive/Computer Vision Masterclass/Cascades/haarcascade_frontalface_default.xml\")"
      ],
      "execution_count": 14,
      "outputs": []
    },
    {
      "cell_type": "code",
      "metadata": {
        "id": "ghScnS-e8DIt"
      },
      "source": [
        "detections = face_detector.detectMultiScale(image_gray)"
      ],
      "execution_count": 15,
      "outputs": []
    },
    {
      "cell_type": "code",
      "metadata": {
        "colab": {
          "base_uri": "https://localhost:8080/"
        },
        "id": "gmPlNa3l8ggo",
        "outputId": "b65f3a36-73b3-495e-bf44-f26962f3c47a"
      },
      "source": [
        "detections"
      ],
      "execution_count": 16,
      "outputs": [
        {
          "output_type": "execute_result",
          "data": {
            "text/plain": [
              "array([[677,  72,  68,  68],\n",
              "       [115, 124,  53,  53],\n",
              "       [475, 123,  59,  59],\n",
              "       [387, 233,  73,  73],\n",
              "       [ 92, 239,  66,  66],\n",
              "       [390, 323,  56,  56]], dtype=int32)"
            ]
          },
          "metadata": {},
          "execution_count": 16
        }
      ]
    },
    {
      "cell_type": "code",
      "metadata": {
        "colab": {
          "base_uri": "https://localhost:8080/"
        },
        "id": "_uXnttmB8kGK",
        "outputId": "810f1f63-6003-4bd7-d3b5-c21a15bfd9cb"
      },
      "source": [
        "len(detections) #how many faces found"
      ],
      "execution_count": 17,
      "outputs": [
        {
          "output_type": "execute_result",
          "data": {
            "text/plain": [
              "6"
            ]
          },
          "metadata": {},
          "execution_count": 17
        }
      ]
    },
    {
      "cell_type": "markdown",
      "metadata": {
        "id": "7MhRJ7P-8t-e"
      },
      "source": [
        "### Draw a bounding box around detected faces"
      ]
    },
    {
      "cell_type": "code",
      "metadata": {
        "id": "zUeKAf1u9PDY"
      },
      "source": [
        "for (x, y, w, h) in detections:\n",
        "  #print(x, y, w, h)\n",
        "  cv2.rectangle(image, \n",
        "                (x, y), #rectangle start points\n",
        "                (x + w, y + h), #rectangle end points\n",
        "                (0,255,255), #color\n",
        "                3 #line-thickness\n",
        "                )\n",
        "#cv2_imshow(image)"
      ],
      "execution_count": 18,
      "outputs": []
    },
    {
      "cell_type": "markdown",
      "metadata": {
        "id": "HoDohZdFCYqg"
      },
      "source": [
        "## Haarcascade parameters"
      ]
    },
    {
      "cell_type": "code",
      "metadata": {
        "id": "Kht0FzOnDJtt"
      },
      "source": [
        "image = cv2.imread(\"/content/drive/MyDrive/Computer Vision Masterclass/Images/people1.jpg\")\n",
        "image = cv2.resize(image, (800, 600))\n",
        "image_gray = cv2.cvtColor(image, cv2.COLOR_BGR2GRAY)\n",
        "detections = face_detector.detectMultiScale(image_gray, scaleFactor=1.09)\n",
        "for (x, y, w, h) in detections:\n",
        "  cv2.rectangle(image, (x,y), (x + w, y + h), (0, 255,0), 5)\n",
        "#cv2_imshow(image)"
      ],
      "execution_count": 19,
      "outputs": []
    },
    {
      "cell_type": "markdown",
      "metadata": {
        "id": "n4Nfnm3LKS2Z"
      },
      "source": [
        "###minNeighbors parameter"
      ]
    },
    {
      "cell_type": "code",
      "metadata": {
        "id": "nhmZ2L3tE8Km"
      },
      "source": [
        "image = cv2.imread(\"/content/drive/MyDrive/Computer Vision Masterclass/Images/people2.jpg\")\n",
        "#image = cv2.resize(image, (800, 600))\n",
        "image_gray = cv2.cvtColor(image, cv2.COLOR_BGR2GRAY)\n",
        "detections = face_detector.detectMultiScale(image_gray, scaleFactor=1.2, minNeighbors=7,\n",
        "                                            minSize=(10,10),\n",
        "                                            maxSize=(50,50))\n",
        "for (x, y, w, h) in detections:\n",
        "  cv2.rectangle(image, (x,y), (x + w, y + h), (0, 255,0), 2)\n",
        "#cv2_imshow(image)"
      ],
      "execution_count": 20,
      "outputs": []
    },
    {
      "cell_type": "markdown",
      "metadata": {
        "id": "9fB5rPPRLoZ8"
      },
      "source": [
        "### Eyes detection"
      ]
    },
    {
      "cell_type": "code",
      "metadata": {
        "id": "b9iaK17kM9qs"
      },
      "source": [
        "eye_detector = cv2.CascadeClassifier(\"/content/drive/MyDrive/Computer Vision Masterclass/Cascades/haarcascade_eye.xml\")"
      ],
      "execution_count": 21,
      "outputs": []
    },
    {
      "cell_type": "code",
      "metadata": {
        "id": "ab3asfHMMojv"
      },
      "source": [
        "image = cv2.imread(\"/content/drive/MyDrive/Computer Vision Masterclass/Images/people1.jpg\")\n",
        "#image = cv2.resize(image, (800, 600))\n",
        "image_gray = cv2.cvtColor(image, cv2.COLOR_BGR2GRAY)\n",
        "detections = face_detector.detectMultiScale(image_gray, scaleFactor=1.3, \n",
        "                                            #minNeighbors=7,\n",
        "                                            minSize=(30,30),\n",
        "                                            #maxSize=(50,50)\n",
        "                                            )\n",
        "for (x, y, w, h) in detections:\n",
        "  cv2.rectangle(image, (x,y), (x + w, y + h), (0, 255,0), 2)\n",
        "\n",
        "eye_detections = eye_detector.detectMultiScale(image_gray,\n",
        "                                               scaleFactor=1.1,\n",
        "                                               minNeighbors=10,\n",
        "                                               maxSize=(50,50))\n",
        "for (x, y, w, h) in eye_detections:\n",
        "  cv2.rectangle(image, (x,y), (x + w, y + h), (0, 0, 255), 2)\n",
        "#cv2_imshow(image)"
      ],
      "execution_count": 22,
      "outputs": []
    },
    {
      "cell_type": "markdown",
      "metadata": {
        "id": "ahED1zXtMxt_"
      },
      "source": [
        "### Full-body detection"
      ]
    },
    {
      "cell_type": "code",
      "metadata": {
        "id": "PTkPY970P9Xr"
      },
      "source": [
        "full_body_detector = cv2.CascadeClassifier(\"/content/drive/MyDrive/Computer Vision Masterclass/Cascades/fullbody.xml\")"
      ],
      "execution_count": 23,
      "outputs": []
    },
    {
      "cell_type": "code",
      "metadata": {
        "colab": {
          "base_uri": "https://localhost:8080/"
        },
        "id": "3WDKfxgDQDDb",
        "outputId": "c6d39cd9-8998-44d3-ee23-3a7fe8afdf8d"
      },
      "source": [
        "image = cv2.imread(\"/content/drive/MyDrive/Computer Vision Masterclass/Images/people3.jpg\")\n",
        "#image = cv2.resize(image, (800, 600))\n",
        "image_gray = cv2.cvtColor(image, cv2.COLOR_BGR2GRAY)\n",
        "print(detections)\n",
        "detections = full_body_detector.detectMultiScale(image_gray, scaleFactor=1.05, \n",
        "                                            minNeighbors=2,\n",
        "                                            minSize=(50,50),\n",
        "                                            #maxSize=(50,50)\n",
        "                                            )\n",
        "for (x, y, w, h) in detections:\n",
        "  cv2.rectangle(image, (x,y), (x + w, y + h), (0, 255,0), 2)\n",
        "\n",
        "\n",
        "#cv2_imshow(image)"
      ],
      "execution_count": 24,
      "outputs": [
        {
          "output_type": "stream",
          "name": "stdout",
          "text": [
            "[[1635  156  147  147]\n",
            " [ 284  262  114  114]\n",
            " [1149  260  129  129]\n",
            " [ 928  491  171  171]\n",
            " [ 222  507  151  151]]\n"
          ]
        }
      ]
    },
    {
      "cell_type": "markdown",
      "metadata": {
        "id": "trxKMwaCQYil"
      },
      "source": [
        "## HOG (Histograms of Oriented Gradients)"
      ]
    },
    {
      "cell_type": "markdown",
      "metadata": {
        "id": "PSsHOUreYzSc"
      },
      "source": [
        "### Dlib"
      ]
    },
    {
      "cell_type": "code",
      "metadata": {
        "id": "mJBZ33x9e13I"
      },
      "source": [
        "import dlib"
      ],
      "execution_count": 25,
      "outputs": []
    },
    {
      "cell_type": "code",
      "metadata": {
        "id": "BIRnFBeXe3Cw"
      },
      "source": [
        "image = cv2.imread(\"/content/drive/MyDrive/Computer Vision Masterclass/Images/people2.jpg\")"
      ],
      "execution_count": 26,
      "outputs": []
    },
    {
      "cell_type": "code",
      "metadata": {
        "id": "VnUTcTltfAEC"
      },
      "source": [
        "#cv2_imshow(image)"
      ],
      "execution_count": 27,
      "outputs": []
    },
    {
      "cell_type": "code",
      "metadata": {
        "id": "NBvntNTPfC1Z"
      },
      "source": [
        "face_detector_hog = dlib.get_frontal_face_detector()"
      ],
      "execution_count": 28,
      "outputs": []
    },
    {
      "cell_type": "code",
      "metadata": {
        "id": "Cl0jpIsufMRR"
      },
      "source": [
        "detections = face_detector_hog(image, 1)"
      ],
      "execution_count": 29,
      "outputs": []
    },
    {
      "cell_type": "code",
      "metadata": {
        "id": "CUGx4lGufZ6K",
        "outputId": "bb62ace4-edd2-4613-c31a-b873578ac42d",
        "colab": {
          "base_uri": "https://localhost:8080/"
        }
      },
      "source": [
        "detections, len(detections)"
      ],
      "execution_count": 30,
      "outputs": [
        {
          "output_type": "execute_result",
          "data": {
            "text/plain": [
              "(rectangles[[(429, 38) (465, 74)], [(665, 90) (701, 126)], [(717, 103) (760, 146)], [(909, 70) (952, 113)], [(828, 98) (871, 142)], [(605, 70) (641, 106)], [(777, 62) (813, 98)], [(485, 78) (521, 114)], [(386, 60) (429, 103)], [(170, 41) (213, 84)], [(93, 89) (136, 132)], [(237, 50) (280, 94)], [(323, 50) (367, 94)], [(544, 65) (588, 108)]],\n",
              " 14)"
            ]
          },
          "metadata": {},
          "execution_count": 30
        }
      ]
    },
    {
      "cell_type": "code",
      "metadata": {
        "id": "gl0zPZDwfbua"
      },
      "source": [
        "for face in detections:\n",
        "  # print(face.left())\n",
        "  # print(face.top())\n",
        "  # print(face.right())\n",
        "  # print(face.bottom())\n",
        "  l, t, r, b = face.left(), face.top(), face.right(), face.bottom()\n",
        "  cv2.rectangle(image, (l, t), (r, b), (0, 255, 255), 2)\n",
        "#cv2_imshow(image)"
      ],
      "execution_count": 31,
      "outputs": []
    },
    {
      "cell_type": "markdown",
      "metadata": {
        "id": "A4zZvFHUhIM0"
      },
      "source": [
        "## CNN with Dlib"
      ]
    },
    {
      "cell_type": "code",
      "metadata": {
        "id": "fGxielwlibnP"
      },
      "source": [
        "image = cv2.imread(\"/content/drive/MyDrive/Computer Vision Masterclass/Images/people2.jpg\")"
      ],
      "execution_count": 32,
      "outputs": []
    },
    {
      "cell_type": "code",
      "metadata": {
        "id": "bmC6ACV4ie_H"
      },
      "source": [
        "cnn_detector = dlib.cnn_face_detection_model_v1(\"/content/drive/MyDrive/Computer Vision Masterclass/Weights/mmod_human_face_detector.dat\")"
      ],
      "execution_count": 33,
      "outputs": []
    },
    {
      "cell_type": "code",
      "metadata": {
        "id": "7eJdLIluiwJ-",
        "outputId": "513574d5-4120-4cea-e1ce-bc982d6128e0",
        "colab": {
          "base_uri": "https://localhost:8080/"
        }
      },
      "source": [
        "detections = cnn_detector(image, 1)\n",
        "for face in detections:\n",
        "  l, t, r, b, c = face.rect.left(), face.rect.top(), face.rect.right(), face.rect.bottom(), face.confidence\n",
        "  print(c)\n",
        "  cv2.rectangle(image, (l, t), (r, b), (0, 0, 255), 2)\n",
        "#cv2_imshow(image)"
      ],
      "execution_count": 34,
      "outputs": [
        {
          "output_type": "stream",
          "name": "stdout",
          "text": [
            "1.1440614461898804\n",
            "1.137049913406372\n",
            "1.1278995275497437\n",
            "1.1200283765792847\n",
            "1.1149375438690186\n",
            "1.1131553649902344\n",
            "1.0975688695907593\n",
            "1.0942121744155884\n",
            "1.085315227508545\n",
            "1.0801889896392822\n",
            "1.0800762176513672\n",
            "1.0784764289855957\n",
            "1.066403865814209\n",
            "1.0641791820526123\n"
          ]
        }
      ]
    },
    {
      "cell_type": "markdown",
      "metadata": {
        "id": "R_z4n1ZWksO5"
      },
      "source": [
        "### Comparing haarcascade vs HOG vs CNN"
      ]
    },
    {
      "cell_type": "markdown",
      "metadata": {
        "id": "5cI4EOHAnuq8"
      },
      "source": [
        "### haarscale"
      ]
    },
    {
      "cell_type": "code",
      "metadata": {
        "id": "TMswUV55mtwI"
      },
      "source": [
        "image = cv2.imread(\"/content/drive/MyDrive/Computer Vision Masterclass/Images/people3.jpg\")\n",
        "#image = cv2.resize(image, (800, 600))\n",
        "image_gray = cv2.cvtColor(image, cv2.COLOR_BGR2GRAY)\n",
        "detections = face_detector.detectMultiScale(image_gray, scaleFactor=1.001, \n",
        "                                            minNeighbors=5,\n",
        "                                            minSize=(5,5),\n",
        "                                            #maxSize=(50,50)\n",
        "                                            )\n",
        "for (x, y, w, h) in detections:\n",
        "  cv2.rectangle(image, (x,y), (x + w, y + h), (0, 255,0), 2)\n",
        "#cv2_imshow(image)"
      ],
      "execution_count": 35,
      "outputs": []
    },
    {
      "cell_type": "markdown",
      "metadata": {
        "id": "ZoC63UvknPJD"
      },
      "source": [
        "### HOG"
      ]
    },
    {
      "cell_type": "code",
      "metadata": {
        "id": "IgofIN3Unz9w"
      },
      "source": [
        "image = cv2.imread(\"/content/drive/MyDrive/Computer Vision Masterclass/Images/people3.jpg\")\n",
        "face_detector_hog = dlib.get_frontal_face_detector()\n",
        "detections = face_detector_hog(image, 4)\n",
        "for face in detections:\n",
        "  # print(face.left())\n",
        "  # print(face.top())\n",
        "  # print(face.right())\n",
        "  # print(face.bottom())\n",
        "  l, t, r, b = face.left(), face.top(), face.right(), face.bottom()\n",
        "  cv2.rectangle(image, (l, t), (r, b), (0, 255, 255), 2)\n",
        "#cv2_imshow(image)"
      ],
      "execution_count": 36,
      "outputs": []
    },
    {
      "cell_type": "markdown",
      "metadata": {
        "id": "52Cs4me4n9jn"
      },
      "source": [
        "### CNN"
      ]
    },
    {
      "cell_type": "code",
      "metadata": {
        "id": "t3Mhd9KToUkw"
      },
      "source": [
        "# image = cv2.imread(\"/content/drive/MyDrive/Computer Vision Masterclass/Images/people3.jpg\")\n",
        "\n",
        "# cnn_detector = dlib.cnn_face_detection_model_v1(\"/content/drive/MyDrive/Computer Vision Masterclass/Weights/mmod_human_face_detector.dat\")\n",
        "# detections = cnn_detector(image, 4)\n",
        "# for face in detections:\n",
        "#   l, t, r, b, c = face.rect.left(), face.rect.top(), face.rect.right(), face.rect.bottom(), face.confidence\n",
        "#   print(c)\n",
        "#   cv2.rectangle(image, (l, t), (r, b), (0, 0, 255), 1)\n",
        "#cv2_imshow(image)"
      ],
      "execution_count": 37,
      "outputs": []
    },
    {
      "cell_type": "code",
      "metadata": {
        "id": "IQgRc9ygoddf"
      },
      "source": [
        ""
      ],
      "execution_count": 37,
      "outputs": []
    }
  ]
}